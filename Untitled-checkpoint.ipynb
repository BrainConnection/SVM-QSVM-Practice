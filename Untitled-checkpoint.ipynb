{
 "cells": [
  {
   "cell_type": "code",
   "execution_count": 1,
   "id": "531dc85a",
   "metadata": {},
   "outputs": [
    {
     "name": "stdout",
     "output_type": "stream",
     "text": [
      "Requirement already satisfied: qiskit[visualization] in c:\\users\\lee\\pycharmprojects\\qsvm_practice\\venv\\lib\\site-packages (0.41.1)\n",
      "Requirement already satisfied: qiskit-terra==0.23.2 in c:\\users\\lee\\pycharmprojects\\qsvm_practice\\venv\\lib\\site-packages (from qiskit[visualization]) (0.23.2)\n",
      "Requirement already satisfied: qiskit-aer==0.11.2 in c:\\users\\lee\\pycharmprojects\\qsvm_practice\\venv\\lib\\site-packages (from qiskit[visualization]) (0.11.2)\n",
      "Requirement already satisfied: qiskit-ibmq-provider==0.20.1 in c:\\users\\lee\\pycharmprojects\\qsvm_practice\\venv\\lib\\site-packages (from qiskit[visualization]) (0.20.1)\n",
      "Requirement already satisfied: matplotlib>=2.1 in c:\\users\\lee\\pycharmprojects\\qsvm_practice\\venv\\lib\\site-packages (from qiskit[visualization]) (3.7.0)\n",
      "Requirement already satisfied: ipywidgets>=7.3.0 in c:\\users\\lee\\pycharmprojects\\qsvm_practice\\venv\\lib\\site-packages (from qiskit[visualization]) (8.0.4)\n",
      "Requirement already satisfied: pydot in c:\\users\\lee\\pycharmprojects\\qsvm_practice\\venv\\lib\\site-packages (from qiskit[visualization]) (1.4.2)\n",
      "Requirement already satisfied: pillow>=4.2.1 in c:\\users\\lee\\pycharmprojects\\qsvm_practice\\venv\\lib\\site-packages (from qiskit[visualization]) (9.4.0)\n",
      "Requirement already satisfied: pylatexenc>=1.4 in c:\\users\\lee\\pycharmprojects\\qsvm_practice\\venv\\lib\\site-packages (from qiskit[visualization]) (2.10)\n",
      "Requirement already satisfied: seaborn>=0.9.0 in c:\\users\\lee\\pycharmprojects\\qsvm_practice\\venv\\lib\\site-packages (from qiskit[visualization]) (0.12.2)\n",
      "Requirement already satisfied: pygments>=2.4 in c:\\users\\lee\\pycharmprojects\\qsvm_practice\\venv\\lib\\site-packages (from qiskit[visualization]) (2.14.0)\n",
      "Requirement already satisfied: numpy>=1.16.3 in c:\\users\\lee\\pycharmprojects\\qsvm_practice\\venv\\lib\\site-packages (from qiskit-aer==0.11.2->qiskit[visualization]) (1.23.5)\n",
      "Requirement already satisfied: scipy>=1.0 in c:\\users\\lee\\pycharmprojects\\qsvm_practice\\venv\\lib\\site-packages (from qiskit-aer==0.11.2->qiskit[visualization]) (1.10.1)\n",
      "Requirement already satisfied: requests~=2.28.0 in c:\\users\\lee\\pycharmprojects\\qsvm_practice\\venv\\lib\\site-packages (from qiskit-ibmq-provider==0.20.1->qiskit[visualization]) (2.28.2)\n",
      "Requirement already satisfied: requests-ntlm~=1.1.0 in c:\\users\\lee\\pycharmprojects\\qsvm_practice\\venv\\lib\\site-packages (from qiskit-ibmq-provider==0.20.1->qiskit[visualization]) (1.1.0)\n",
      "Requirement already satisfied: urllib3~=1.26.0 in c:\\users\\lee\\pycharmprojects\\qsvm_practice\\venv\\lib\\site-packages (from qiskit-ibmq-provider==0.20.1->qiskit[visualization]) (1.26.14)\n",
      "Requirement already satisfied: python-dateutil~=2.8.0 in c:\\users\\lee\\pycharmprojects\\qsvm_practice\\venv\\lib\\site-packages (from qiskit-ibmq-provider==0.20.1->qiskit[visualization]) (2.8.2)\n",
      "Requirement already satisfied: websocket-client~=1.5.1 in c:\\users\\lee\\pycharmprojects\\qsvm_practice\\venv\\lib\\site-packages (from qiskit-ibmq-provider==0.20.1->qiskit[visualization]) (1.5.1)\n",
      "Requirement already satisfied: websockets~=10.0 in c:\\users\\lee\\pycharmprojects\\qsvm_practice\\venv\\lib\\site-packages (from qiskit-ibmq-provider==0.20.1->qiskit[visualization]) (10.4)\n",
      "Requirement already satisfied: rustworkx>=0.12.0 in c:\\users\\lee\\pycharmprojects\\qsvm_practice\\venv\\lib\\site-packages (from qiskit-terra==0.23.2->qiskit[visualization]) (0.12.1)\n",
      "Requirement already satisfied: ply>=3.10 in c:\\users\\lee\\pycharmprojects\\qsvm_practice\\venv\\lib\\site-packages (from qiskit-terra==0.23.2->qiskit[visualization]) (3.11)\n",
      "Requirement already satisfied: psutil>=5 in c:\\users\\lee\\pycharmprojects\\qsvm_practice\\venv\\lib\\site-packages (from qiskit-terra==0.23.2->qiskit[visualization]) (5.9.4)\n",
      "Requirement already satisfied: sympy>=1.3 in c:\\users\\lee\\pycharmprojects\\qsvm_practice\\venv\\lib\\site-packages (from qiskit-terra==0.23.2->qiskit[visualization]) (1.11.1)\n",
      "Requirement already satisfied: dill>=0.3 in c:\\users\\lee\\pycharmprojects\\qsvm_practice\\venv\\lib\\site-packages (from qiskit-terra==0.23.2->qiskit[visualization]) (0.3.5.1)\n",
      "Requirement already satisfied: stevedore>=3.0.0 in c:\\users\\lee\\pycharmprojects\\qsvm_practice\\venv\\lib\\site-packages (from qiskit-terra==0.23.2->qiskit[visualization]) (5.0.0)\n",
      "Requirement already satisfied: ipykernel>=4.5.1 in c:\\users\\lee\\pycharmprojects\\qsvm_practice\\venv\\lib\\site-packages (from ipywidgets>=7.3.0->qiskit[visualization]) (6.21.2)\n",
      "Requirement already satisfied: ipython>=6.1.0 in c:\\users\\lee\\pycharmprojects\\qsvm_practice\\venv\\lib\\site-packages (from ipywidgets>=7.3.0->qiskit[visualization]) (8.11.0)\n",
      "Requirement already satisfied: traitlets>=4.3.1 in c:\\users\\lee\\pycharmprojects\\qsvm_practice\\venv\\lib\\site-packages (from ipywidgets>=7.3.0->qiskit[visualization]) (5.9.0)\n",
      "Requirement already satisfied: widgetsnbextension~=4.0 in c:\\users\\lee\\pycharmprojects\\qsvm_practice\\venv\\lib\\site-packages (from ipywidgets>=7.3.0->qiskit[visualization]) (4.0.5)\n",
      "Requirement already satisfied: jupyterlab-widgets~=3.0 in c:\\users\\lee\\pycharmprojects\\qsvm_practice\\venv\\lib\\site-packages (from ipywidgets>=7.3.0->qiskit[visualization]) (3.0.5)\n",
      "Requirement already satisfied: contourpy>=1.0.1 in c:\\users\\lee\\pycharmprojects\\qsvm_practice\\venv\\lib\\site-packages (from matplotlib>=2.1->qiskit[visualization]) (1.0.7)\n",
      "Requirement already satisfied: cycler>=0.10 in c:\\users\\lee\\pycharmprojects\\qsvm_practice\\venv\\lib\\site-packages (from matplotlib>=2.1->qiskit[visualization]) (0.11.0)\n",
      "Requirement already satisfied: fonttools>=4.22.0 in c:\\users\\lee\\pycharmprojects\\qsvm_practice\\venv\\lib\\site-packages (from matplotlib>=2.1->qiskit[visualization]) (4.38.0)\n",
      "Requirement already satisfied: kiwisolver>=1.0.1 in c:\\users\\lee\\pycharmprojects\\qsvm_practice\\venv\\lib\\site-packages (from matplotlib>=2.1->qiskit[visualization]) (1.4.4)\n",
      "Requirement already satisfied: packaging>=20.0 in c:\\users\\lee\\pycharmprojects\\qsvm_practice\\venv\\lib\\site-packages (from matplotlib>=2.1->qiskit[visualization]) (23.0)\n",
      "Requirement already satisfied: pyparsing>=2.3.1 in c:\\users\\lee\\pycharmprojects\\qsvm_practice\\venv\\lib\\site-packages (from matplotlib>=2.1->qiskit[visualization]) (3.0.9)\n",
      "Requirement already satisfied: pandas>=0.25 in c:\\users\\lee\\pycharmprojects\\qsvm_practice\\venv\\lib\\site-packages (from seaborn>=0.9.0->qiskit[visualization]) (1.5.3)\n",
      "Requirement already satisfied: comm>=0.1.1 in c:\\users\\lee\\pycharmprojects\\qsvm_practice\\venv\\lib\\site-packages (from ipykernel>=4.5.1->ipywidgets>=7.3.0->qiskit[visualization]) (0.1.2)\n",
      "Requirement already satisfied: debugpy>=1.6.5 in c:\\users\\lee\\pycharmprojects\\qsvm_practice\\venv\\lib\\site-packages (from ipykernel>=4.5.1->ipywidgets>=7.3.0->qiskit[visualization]) (1.6.6)\n",
      "Requirement already satisfied: jupyter-client>=6.1.12 in c:\\users\\lee\\pycharmprojects\\qsvm_practice\\venv\\lib\\site-packages (from ipykernel>=4.5.1->ipywidgets>=7.3.0->qiskit[visualization]) (8.0.3)\n",
      "Requirement already satisfied: jupyter-core!=5.0.*,>=4.12 in c:\\users\\lee\\pycharmprojects\\qsvm_practice\\venv\\lib\\site-packages (from ipykernel>=4.5.1->ipywidgets>=7.3.0->qiskit[visualization]) (5.2.0)\n",
      "Requirement already satisfied: matplotlib-inline>=0.1 in c:\\users\\lee\\pycharmprojects\\qsvm_practice\\venv\\lib\\site-packages (from ipykernel>=4.5.1->ipywidgets>=7.3.0->qiskit[visualization]) (0.1.6)\n",
      "Requirement already satisfied: nest-asyncio in c:\\users\\lee\\pycharmprojects\\qsvm_practice\\venv\\lib\\site-packages (from ipykernel>=4.5.1->ipywidgets>=7.3.0->qiskit[visualization]) (1.5.6)\n",
      "Requirement already satisfied: pyzmq>=20 in c:\\users\\lee\\pycharmprojects\\qsvm_practice\\venv\\lib\\site-packages (from ipykernel>=4.5.1->ipywidgets>=7.3.0->qiskit[visualization]) (25.0.0)\n",
      "Requirement already satisfied: tornado>=6.1 in c:\\users\\lee\\pycharmprojects\\qsvm_practice\\venv\\lib\\site-packages (from ipykernel>=4.5.1->ipywidgets>=7.3.0->qiskit[visualization]) (6.2)\n",
      "Requirement already satisfied: backcall in c:\\users\\lee\\pycharmprojects\\qsvm_practice\\venv\\lib\\site-packages (from ipython>=6.1.0->ipywidgets>=7.3.0->qiskit[visualization]) (0.2.0)\n",
      "Requirement already satisfied: decorator in c:\\users\\lee\\pycharmprojects\\qsvm_practice\\venv\\lib\\site-packages (from ipython>=6.1.0->ipywidgets>=7.3.0->qiskit[visualization]) (5.1.1)\n",
      "Requirement already satisfied: jedi>=0.16 in c:\\users\\lee\\pycharmprojects\\qsvm_practice\\venv\\lib\\site-packages (from ipython>=6.1.0->ipywidgets>=7.3.0->qiskit[visualization]) (0.18.2)\n",
      "Requirement already satisfied: pickleshare in c:\\users\\lee\\pycharmprojects\\qsvm_practice\\venv\\lib\\site-packages (from ipython>=6.1.0->ipywidgets>=7.3.0->qiskit[visualization]) (0.7.5)\n",
      "Requirement already satisfied: prompt-toolkit!=3.0.37,<3.1.0,>=3.0.30 in c:\\users\\lee\\pycharmprojects\\qsvm_practice\\venv\\lib\\site-packages (from ipython>=6.1.0->ipywidgets>=7.3.0->qiskit[visualization]) (3.0.38)\n",
      "Requirement already satisfied: stack-data in c:\\users\\lee\\pycharmprojects\\qsvm_practice\\venv\\lib\\site-packages (from ipython>=6.1.0->ipywidgets>=7.3.0->qiskit[visualization]) (0.6.2)\n",
      "Requirement already satisfied: colorama in c:\\users\\lee\\pycharmprojects\\qsvm_practice\\venv\\lib\\site-packages (from ipython>=6.1.0->ipywidgets>=7.3.0->qiskit[visualization]) (0.4.6)\n",
      "Requirement already satisfied: pytz>=2020.1 in c:\\users\\lee\\pycharmprojects\\qsvm_practice\\venv\\lib\\site-packages (from pandas>=0.25->seaborn>=0.9.0->qiskit[visualization]) (2022.7.1)\n",
      "Requirement already satisfied: six>=1.5 in c:\\users\\lee\\pycharmprojects\\qsvm_practice\\venv\\lib\\site-packages (from python-dateutil~=2.8.0->qiskit-ibmq-provider==0.20.1->qiskit[visualization]) (1.16.0)\n",
      "Requirement already satisfied: charset-normalizer<4,>=2 in c:\\users\\lee\\pycharmprojects\\qsvm_practice\\venv\\lib\\site-packages (from requests~=2.28.0->qiskit-ibmq-provider==0.20.1->qiskit[visualization]) (3.0.1)\n",
      "Requirement already satisfied: idna<4,>=2.5 in c:\\users\\lee\\pycharmprojects\\qsvm_practice\\venv\\lib\\site-packages (from requests~=2.28.0->qiskit-ibmq-provider==0.20.1->qiskit[visualization]) (3.4)\n",
      "Requirement already satisfied: certifi>=2017.4.17 in c:\\users\\lee\\pycharmprojects\\qsvm_practice\\venv\\lib\\site-packages (from requests~=2.28.0->qiskit-ibmq-provider==0.20.1->qiskit[visualization]) (2022.12.7)\n",
      "Requirement already satisfied: ntlm-auth>=1.0.2 in c:\\users\\lee\\pycharmprojects\\qsvm_practice\\venv\\lib\\site-packages (from requests-ntlm~=1.1.0->qiskit-ibmq-provider==0.20.1->qiskit[visualization]) (1.5.0)\n",
      "Requirement already satisfied: cryptography>=1.3 in c:\\users\\lee\\pycharmprojects\\qsvm_practice\\venv\\lib\\site-packages (from requests-ntlm~=1.1.0->qiskit-ibmq-provider==0.20.1->qiskit[visualization]) (39.0.2)\n",
      "Requirement already satisfied: pbr!=2.1.0,>=2.0.0 in c:\\users\\lee\\pycharmprojects\\qsvm_practice\\venv\\lib\\site-packages (from stevedore>=3.0.0->qiskit-terra==0.23.2->qiskit[visualization]) (5.11.1)\n",
      "Requirement already satisfied: mpmath>=0.19 in c:\\users\\lee\\pycharmprojects\\qsvm_practice\\venv\\lib\\site-packages (from sympy>=1.3->qiskit-terra==0.23.2->qiskit[visualization]) (1.2.1)\n",
      "Requirement already satisfied: cffi>=1.12 in c:\\users\\lee\\pycharmprojects\\qsvm_practice\\venv\\lib\\site-packages (from cryptography>=1.3->requests-ntlm~=1.1.0->qiskit-ibmq-provider==0.20.1->qiskit[visualization]) (1.15.1)\n",
      "Requirement already satisfied: parso<0.9.0,>=0.8.0 in c:\\users\\lee\\pycharmprojects\\qsvm_practice\\venv\\lib\\site-packages (from jedi>=0.16->ipython>=6.1.0->ipywidgets>=7.3.0->qiskit[visualization]) (0.8.3)\n",
      "Requirement already satisfied: platformdirs>=2.5 in c:\\users\\lee\\pycharmprojects\\qsvm_practice\\venv\\lib\\site-packages (from jupyter-core!=5.0.*,>=4.12->ipykernel>=4.5.1->ipywidgets>=7.3.0->qiskit[visualization]) (3.1.0)\n",
      "Requirement already satisfied: pywin32>=1.0 in c:\\users\\lee\\pycharmprojects\\qsvm_practice\\venv\\lib\\site-packages (from jupyter-core!=5.0.*,>=4.12->ipykernel>=4.5.1->ipywidgets>=7.3.0->qiskit[visualization]) (305)\n",
      "Requirement already satisfied: wcwidth in c:\\users\\lee\\pycharmprojects\\qsvm_practice\\venv\\lib\\site-packages (from prompt-toolkit!=3.0.37,<3.1.0,>=3.0.30->ipython>=6.1.0->ipywidgets>=7.3.0->qiskit[visualization]) (0.2.6)\n",
      "Requirement already satisfied: executing>=1.2.0 in c:\\users\\lee\\pycharmprojects\\qsvm_practice\\venv\\lib\\site-packages (from stack-data->ipython>=6.1.0->ipywidgets>=7.3.0->qiskit[visualization]) (1.2.0)\n",
      "Requirement already satisfied: asttokens>=2.1.0 in c:\\users\\lee\\pycharmprojects\\qsvm_practice\\venv\\lib\\site-packages (from stack-data->ipython>=6.1.0->ipywidgets>=7.3.0->qiskit[visualization]) (2.2.1)\n",
      "Requirement already satisfied: pure-eval in c:\\users\\lee\\pycharmprojects\\qsvm_practice\\venv\\lib\\site-packages (from stack-data->ipython>=6.1.0->ipywidgets>=7.3.0->qiskit[visualization]) (0.2.2)\n",
      "Requirement already satisfied: pycparser in c:\\users\\lee\\pycharmprojects\\qsvm_practice\\venv\\lib\\site-packages (from cffi>=1.12->cryptography>=1.3->requests-ntlm~=1.1.0->qiskit-ibmq-provider==0.20.1->qiskit[visualization]) (2.21)\n"
     ]
    },
    {
     "name": "stderr",
     "output_type": "stream",
     "text": [
      "\n",
      "[notice] A new release of pip available: 22.3.1 -> 23.0.1\n",
      "[notice] To update, run: python.exe -m pip install --upgrade pip\n"
     ]
    },
    {
     "name": "stdout",
     "output_type": "stream",
     "text": [
      "Requirement already satisfied: qiskit-machine-learning in c:\\users\\lee\\pycharmprojects\\qsvm_practice\\venv\\lib\\site-packages (0.5.0)\n",
      "Requirement already satisfied: qiskit-terra>=0.22 in c:\\users\\lee\\pycharmprojects\\qsvm_practice\\venv\\lib\\site-packages (from qiskit-machine-learning) (0.23.2)\n",
      "Requirement already satisfied: scipy>=1.4 in c:\\users\\lee\\pycharmprojects\\qsvm_practice\\venv\\lib\\site-packages (from qiskit-machine-learning) (1.10.1)\n",
      "Requirement already satisfied: numpy>=1.17 in c:\\users\\lee\\pycharmprojects\\qsvm_practice\\venv\\lib\\site-packages (from qiskit-machine-learning) (1.23.5)\n",
      "Requirement already satisfied: psutil>=5 in c:\\users\\lee\\pycharmprojects\\qsvm_practice\\venv\\lib\\site-packages (from qiskit-machine-learning) (5.9.4)\n",
      "Requirement already satisfied: scikit-learn>=0.20.0 in c:\\users\\lee\\pycharmprojects\\qsvm_practice\\venv\\lib\\site-packages (from qiskit-machine-learning) (1.2.1)\n",
      "Requirement already satisfied: fastdtw in c:\\users\\lee\\pycharmprojects\\qsvm_practice\\venv\\lib\\site-packages (from qiskit-machine-learning) (0.3.4)\n",
      "Requirement already satisfied: setuptools>=40.1.0 in c:\\users\\lee\\pycharmprojects\\qsvm_practice\\venv\\lib\\site-packages (from qiskit-machine-learning) (65.5.1)\n",
      "Requirement already satisfied: dill<0.3.6,>=0.3.4 in c:\\users\\lee\\pycharmprojects\\qsvm_practice\\venv\\lib\\site-packages (from qiskit-machine-learning) (0.3.5.1)\n",
      "Requirement already satisfied: rustworkx>=0.12.0 in c:\\users\\lee\\pycharmprojects\\qsvm_practice\\venv\\lib\\site-packages (from qiskit-terra>=0.22->qiskit-machine-learning) (0.12.1)\n",
      "Requirement already satisfied: ply>=3.10 in c:\\users\\lee\\pycharmprojects\\qsvm_practice\\venv\\lib\\site-packages (from qiskit-terra>=0.22->qiskit-machine-learning) (3.11)\n",
      "Requirement already satisfied: sympy>=1.3 in c:\\users\\lee\\pycharmprojects\\qsvm_practice\\venv\\lib\\site-packages (from qiskit-terra>=0.22->qiskit-machine-learning) (1.11.1)\n",
      "Requirement already satisfied: python-dateutil>=2.8.0 in c:\\users\\lee\\pycharmprojects\\qsvm_practice\\venv\\lib\\site-packages (from qiskit-terra>=0.22->qiskit-machine-learning) (2.8.2)\n",
      "Requirement already satisfied: stevedore>=3.0.0 in c:\\users\\lee\\pycharmprojects\\qsvm_practice\\venv\\lib\\site-packages (from qiskit-terra>=0.22->qiskit-machine-learning) (5.0.0)\n",
      "Requirement already satisfied: joblib>=1.1.1 in c:\\users\\lee\\pycharmprojects\\qsvm_practice\\venv\\lib\\site-packages (from scikit-learn>=0.20.0->qiskit-machine-learning) (1.2.0)\n",
      "Requirement already satisfied: threadpoolctl>=2.0.0 in c:\\users\\lee\\pycharmprojects\\qsvm_practice\\venv\\lib\\site-packages (from scikit-learn>=0.20.0->qiskit-machine-learning) (3.1.0)\n",
      "Requirement already satisfied: six>=1.5 in c:\\users\\lee\\pycharmprojects\\qsvm_practice\\venv\\lib\\site-packages (from python-dateutil>=2.8.0->qiskit-terra>=0.22->qiskit-machine-learning) (1.16.0)\n",
      "Requirement already satisfied: pbr!=2.1.0,>=2.0.0 in c:\\users\\lee\\pycharmprojects\\qsvm_practice\\venv\\lib\\site-packages (from stevedore>=3.0.0->qiskit-terra>=0.22->qiskit-machine-learning) (5.11.1)\n",
      "Requirement already satisfied: mpmath>=0.19 in c:\\users\\lee\\pycharmprojects\\qsvm_practice\\venv\\lib\\site-packages (from sympy>=1.3->qiskit-terra>=0.22->qiskit-machine-learning) (1.2.1)\n"
     ]
    },
    {
     "name": "stderr",
     "output_type": "stream",
     "text": [
      "\n",
      "[notice] A new release of pip available: 22.3.1 -> 23.0.1\n",
      "[notice] To update, run: python.exe -m pip install --upgrade pip\n"
     ]
    },
    {
     "name": "stdout",
     "output_type": "stream",
     "text": [
      "Requirement already satisfied: matplotlib in c:\\users\\lee\\pycharmprojects\\qsvm_practice\\venv\\lib\\site-packages (3.7.0)\n",
      "Requirement already satisfied: contourpy>=1.0.1 in c:\\users\\lee\\pycharmprojects\\qsvm_practice\\venv\\lib\\site-packages (from matplotlib) (1.0.7)\n",
      "Requirement already satisfied: cycler>=0.10 in c:\\users\\lee\\pycharmprojects\\qsvm_practice\\venv\\lib\\site-packages (from matplotlib) (0.11.0)\n",
      "Requirement already satisfied: fonttools>=4.22.0 in c:\\users\\lee\\pycharmprojects\\qsvm_practice\\venv\\lib\\site-packages (from matplotlib) (4.38.0)\n",
      "Requirement already satisfied: kiwisolver>=1.0.1 in c:\\users\\lee\\pycharmprojects\\qsvm_practice\\venv\\lib\\site-packages (from matplotlib) (1.4.4)\n",
      "Requirement already satisfied: numpy>=1.20 in c:\\users\\lee\\pycharmprojects\\qsvm_practice\\venv\\lib\\site-packages (from matplotlib) (1.23.5)\n",
      "Requirement already satisfied: packaging>=20.0 in c:\\users\\lee\\pycharmprojects\\qsvm_practice\\venv\\lib\\site-packages (from matplotlib) (23.0)\n",
      "Requirement already satisfied: pillow>=6.2.0 in c:\\users\\lee\\pycharmprojects\\qsvm_practice\\venv\\lib\\site-packages (from matplotlib) (9.4.0)\n",
      "Requirement already satisfied: pyparsing>=2.3.1 in c:\\users\\lee\\pycharmprojects\\qsvm_practice\\venv\\lib\\site-packages (from matplotlib) (3.0.9)\n",
      "Requirement already satisfied: python-dateutil>=2.7 in c:\\users\\lee\\pycharmprojects\\qsvm_practice\\venv\\lib\\site-packages (from matplotlib) (2.8.2)\n",
      "Requirement already satisfied: six>=1.5 in c:\\users\\lee\\pycharmprojects\\qsvm_practice\\venv\\lib\\site-packages (from python-dateutil>=2.7->matplotlib) (1.16.0)\n"
     ]
    },
    {
     "name": "stderr",
     "output_type": "stream",
     "text": [
      "\n",
      "[notice] A new release of pip available: 22.3.1 -> 23.0.1\n",
      "[notice] To update, run: python.exe -m pip install --upgrade pip\n"
     ]
    },
    {
     "name": "stdout",
     "output_type": "stream",
     "text": [
      "Requirement already satisfied: sklearn in c:\\users\\lee\\pycharmprojects\\qsvm_practice\\venv\\lib\\site-packages (0.0.post1)\n"
     ]
    },
    {
     "name": "stderr",
     "output_type": "stream",
     "text": [
      "\n",
      "[notice] A new release of pip available: 22.3.1 -> 23.0.1\n",
      "[notice] To update, run: python.exe -m pip install --upgrade pip\n"
     ]
    }
   ],
   "source": [
    "!pip install qiskit[visualization]\n",
    "!pip install qiskit-machine-learning\n",
    "!pip install matplotlib\n",
    "!pip install sklearn"
   ]
  },
  {
   "cell_type": "code",
   "execution_count": 2,
   "id": "cee3fb3b",
   "metadata": {},
   "outputs": [],
   "source": [
    "import qiskit as qk\n",
    "import numpy as np\n",
    "import matplotlib.pyplot as plt\n",
    "\n",
    "from qiskit import BasicAer\n",
    "from qiskit.circuit.library import ZZFeatureMap\n",
    "from qiskit.utils import QuantumInstance, algorithm_globals\n",
    "\n",
    "algorithm_globals.random_seed = 13000"
   ]
  },
  {
   "cell_type": "code",
   "execution_count": 3,
   "id": "31a17279",
   "metadata": {},
   "outputs": [],
   "source": [
    "from qiskit_machine_learning.datasets import ad_hoc_data\n",
    "\n",
    "adhoc_dimension = 2\n",
    "train_features, train_labels, test_features, test_labels, adhoc_total = ad_hoc_data(\n",
    "    training_size=180,\n",
    "    test_size=20,\n",
    "    n=adhoc_dimension,\n",
    "    gap=0.3,\n",
    "    plot_data=False,\n",
    "    one_hot=False,\n",
    "    include_sample_total=True,\n",
    ")"
   ]
  },
  {
   "cell_type": "code",
   "execution_count": 4,
   "id": "adbc38cf",
   "metadata": {},
   "outputs": [],
   "source": [
    "def plot_features(ax, features, labels, class_label, marker, face, edge, label):\n",
    "    # A train plot\n",
    "    ax.scatter(\n",
    "        # x coordinate of labels where class is class_label\n",
    "        features[np.where(labels[:] == class_label), 0],\n",
    "        # y coordinate of labels where class is class_label\n",
    "        features[np.where(labels[:] == class_label), 1],\n",
    "        marker=marker,\n",
    "        facecolors=face,\n",
    "        edgecolors=edge,\n",
    "        label=label,\n",
    "    )"
   ]
  },
  {
   "cell_type": "code",
   "execution_count": 5,
   "id": "f16056dd",
   "metadata": {},
   "outputs": [],
   "source": [
    "def plot_dataset(train_features, train_labels, test_features, test_labels, adhoc_total):\n",
    "\n",
    "    plt.figure(figsize=(5, 5))\n",
    "    plt.ylim(0, 2 * np.pi)\n",
    "    plt.xlim(0, 2 * np.pi)\n",
    "    plt.imshow(\n",
    "        np.asmatrix(adhoc_total).T,\n",
    "        interpolation=\"nearest\",\n",
    "        origin=\"lower\",\n",
    "        cmap=\"RdBu\",\n",
    "        extent=[0, 2 * np.pi, 0, 2 * np.pi],\n",
    "    )\n",
    "\n",
    "    # A train plot\n",
    "    plot_features(plt, train_features, train_labels, 0, \"s\", \"w\", \"b\", \"A train\")\n",
    "\n",
    "    # B train plot\n",
    "    plot_features(plt, train_features, train_labels, 1, \"o\", \"w\", \"r\", \"B train\")\n",
    "\n",
    "    # A test plot\n",
    "    plot_features(plt, test_features, test_labels, 0, \"s\", \"b\", \"w\", \"A test\")\n",
    "\n",
    "    # B test plot\n",
    "    plot_features(plt, test_features, test_labels, 1, \"o\", \"r\", \"w\", \"B test\")\n",
    "\n",
    "    plt.legend(bbox_to_anchor=(1.05, 1), loc=\"upper left\", borderaxespad=0.0)\n",
    "    plt.title(\"Ad hoc dataset\")\n",
    "\n",
    "    plt.show()"
   ]
  },
  {
   "cell_type": "code",
   "execution_count": 6,
   "id": "5e1ed1a5",
   "metadata": {},
   "outputs": [
    {
     "data": {
      "image/png": "[encoded data removed]",
      "text/plain": [
       "<Figure size 500x500 with 1 Axes>"
      ]
     },
     "metadata": {},
     "output_type": "display_data"
    }
   ],
   "source": [
    "plot_dataset(train_features, train_labels, test_features, test_labels, adhoc_total)"
   ]
  },
  {
   "cell_type": "code",
   "execution_count": 7,
   "id": "c8bf205b",
   "metadata": {},
   "outputs": [],
   "source": [
    "def make_meshgrid(ax, h=.02):\n",
    "    # x_min, x_max = x.min() - 1, x.max() + 1\n",
    "    # y_min, y_max = y.min() - 1, y.max() + 1\n",
    "    x_min, x_max = ax.get_xlim()\n",
    "    y_min, y_max = ax.get_ylim()\n",
    "\n",
    "    xx, yy = np.meshgrid(np.arange(x_min, x_max, h),\n",
    "                         np.arange(y_min, y_max, h))\n",
    "    return xx, yy"
   ]
  },
  {
   "cell_type": "code",
   "execution_count": 8,
   "id": "633eabe2",
   "metadata": {},
   "outputs": [],
   "source": [
    "def plot_contours(ax, clf, xx, yy, **params):\n",
    "    Z = clf.predict(np.c_[xx.ravel(), yy.ravel()])\n",
    "    Z = Z.reshape(xx.shape)\n",
    "    out = ax.contourf(xx, yy, Z, **params)\n",
    "    return out"
   ]
  },
  {
   "cell_type": "code",
   "execution_count": 9,
   "id": "941ea9d9",
   "metadata": {},
   "outputs": [],
   "source": [
    "def draw_boundary(ax, clf):\n",
    "\n",
    "    xx, yy = make_meshgrid(ax)\n",
    "    return plot_contours(ax, clf, xx, yy,cmap=plt.cm.coolwarm, alpha=0.5)"
   ]
  },
  {
   "cell_type": "code",
   "execution_count": 10,
   "id": "5440d869",
   "metadata": {},
   "outputs": [],
   "source": [
    "from sklearn.svm import SVC\n",
    "\n",
    "def SVM(gamma, C):\n",
    "\n",
    "    classifier = SVC(kernel='rbf', gamma = gamma, C = C)\n",
    "    classifier.fit(train_features, train_labels)\n",
    "    return classifier.score(test_features, test_labels)"
   ]
  },
  {
   "cell_type": "code",
   "execution_count": 11,
   "id": "ac5947ba",
   "metadata": {},
   "outputs": [
    {
     "name": "stdout",
     "output_type": "stream",
     "text": [
      "0.4 0.09 0.725\n"
     ]
    }
   ],
   "source": [
    "optimal_gamma = 1\n",
    "optimal_C = 1\n",
    "score = 0\n",
    "\n",
    "for i in range(5):\n",
    "    for j in range(10):\n",
    "        mid = SVM(gamma=(i+1)*0.1, C=(j+1)*0.1)\n",
    "        if mid > score:\n",
    "            score = mid\n",
    "            optimal_gamma = (i+1)*0.1\n",
    "            optimal_C = (j+1)*0.01\n",
    "\n",
    "print(optimal_gamma, optimal_C, score)"
   ]
  },
  {
   "cell_type": "code",
   "execution_count": 12,
   "id": "4ecaf94f",
   "metadata": {},
   "outputs": [],
   "source": [
    "def plot_boundary(train_features, train_labels, test_features, test_labels, adhoc_total):\n",
    "\n",
    "    plt.figure(figsize=(5, 5))\n",
    "    plt.ylim(0, 2 * np.pi)\n",
    "    plt.xlim(0, 2 * np.pi)\n",
    "    plt.imshow(\n",
    "        np.asmatrix(adhoc_total).T,\n",
    "        interpolation=\"nearest\",\n",
    "        origin=\"lower\",\n",
    "        cmap=\"RdBu\",\n",
    "        extent=[0, 2 * np.pi, 0, 2 * np.pi],\n",
    "    )\n",
    "    \n",
    "    fig, ax = plt.subplots()\n",
    "\n",
    "    # A train plot\n",
    "    plot_features(plt, train_features, train_labels, 0, \"s\", \"w\", \"b\", \"A train\")\n",
    "\n",
    "    # B train plot\n",
    "    plot_features(plt, train_features, train_labels, 1, \"o\", \"w\", \"r\", \"B train\")\n",
    "\n",
    "    # A test plot\n",
    "    plot_features(plt, test_features, test_labels, 0, \"s\", \"b\", \"w\", \"A test\")\n",
    "\n",
    "    # B test plot\n",
    "    plot_features(plt, test_features, test_labels, 1, \"o\", \"r\", \"w\", \"B test\")\n",
    "    \n",
    "    classifier = SVC(kernel='rbf', gamma = optimal_gamma, C = optimal_C)\n",
    "    classifier.fit(train_features, train_labels)\n",
    "    draw_boundary(ax, classifier)\n",
    "\n",
    "    plt.legend(bbox_to_anchor=(1.05, 1), loc=\"upper left\", borderaxespad=0.0)\n",
    "    plt.title(\"Ad hoc dataset\")\n",
    "    \n",
    "    \n",
    "    plt.show()"
   ]
  },
  {
   "cell_type": "code",
   "execution_count": 13,
   "id": "1e6e7126",
   "metadata": {},
   "outputs": [
    {
     "data": {
      "image/png": "[encoded data removed]",
      "text/plain": [
       "<Figure size 500x500 with 1 Axes>"
      ]
     },
     "metadata": {},
     "output_type": "display_data"
    },
    {
     "data": {
      "image/png": "[encoded data removed]",
      "text/plain": [
       "<Figure size 640x480 with 1 Axes>"
      ]
     },
     "metadata": {},
     "output_type": "display_data"
    },
    {
     "name": "stdout",
     "output_type": "stream",
     "text": [
      "0.675\n"
     ]
    }
   ],
   "source": [
    "plot_boundary(train_features, train_labels, test_features, test_labels, adhoc_total)\n",
    "print(SVM(optimal_gamma, optimal_C))"
   ]
  },
  {
   "cell_type": "code",
   "execution_count": 14,
   "id": "4c2806c1",
   "metadata": {},
   "outputs": [],
   "source": [
    "from qiskit.circuit.library import ZZFeatureMap, ZFeatureMap, PauliFeatureMap\n",
    "from qiskit.primitives import Sampler\n",
    "from qiskit.algorithms.state_fidelities import ComputeUncompute\n",
    "from qiskit_machine_learning.kernels import FidelityQuantumKernel\n",
    "\n",
    "adhoc_feature_map_Z_1 = ZFeatureMap(feature_dimension=adhoc_dimension, reps=1)\n",
    "adhoc_feature_map_Z_2 = ZFeatureMap(feature_dimension=adhoc_dimension, reps=2)\n",
    "adhoc_feature_map_Z_3 = ZFeatureMap(feature_dimension=adhoc_dimension, reps=3)\n",
    "\n",
    "adhoc_feature_map_ZZ_1_linear = ZZFeatureMap(feature_dimension=adhoc_dimension, reps=1, entanglement=\"linear\")\n",
    "adhoc_feature_map_ZZ_2_linear = ZZFeatureMap(feature_dimension=adhoc_dimension, reps=2, entanglement=\"linear\")\n",
    "adhoc_feature_map_ZZ_3_linear = ZZFeatureMap(feature_dimension=adhoc_dimension, reps=3, entanglement=\"linear\")\n",
    "\n",
    "adhoc_feature_map_ZZ_1_full = ZZFeatureMap(feature_dimension=adhoc_dimension, reps=1, entanglement=\"full\")\n",
    "adhoc_feature_map_ZZ_2_full = ZZFeatureMap(feature_dimension=adhoc_dimension, reps=2, entanglement=\"full\")\n",
    "adhoc_feature_map_ZZ_3_full = ZZFeatureMap(feature_dimension=adhoc_dimension, reps=3, entanglement=\"full\")\n",
    "\n",
    "\n",
    "sampler = Sampler()\n",
    "\n",
    "fidelity = ComputeUncompute(sampler=sampler)\n",
    "\n",
    "adhoc_kernel_Z_1 = FidelityQuantumKernel(fidelity=fidelity, feature_map=adhoc_feature_map_Z_1)\n",
    "adhoc_kernel_Z_2 = FidelityQuantumKernel(fidelity=fidelity, feature_map=adhoc_feature_map_Z_2)\n",
    "adhoc_kernel_Z_3 = FidelityQuantumKernel(fidelity=fidelity, feature_map=adhoc_feature_map_Z_3)\n",
    "\n",
    "adhoc_kernel_ZZ_1_linear = FidelityQuantumKernel(fidelity=fidelity, feature_map=adhoc_feature_map_ZZ_1_linear)\n",
    "adhoc_kernel_ZZ_2_linear = FidelityQuantumKernel(fidelity=fidelity, feature_map=adhoc_feature_map_ZZ_2_linear)\n",
    "adhoc_kernel_ZZ_3_linear = FidelityQuantumKernel(fidelity=fidelity, feature_map=adhoc_feature_map_ZZ_3_linear)\n",
    "\n",
    "adhoc_kernel_ZZ_1_full = FidelityQuantumKernel(fidelity=fidelity, feature_map=adhoc_feature_map_ZZ_1_full)\n",
    "adhoc_kernel_ZZ_2_full = FidelityQuantumKernel(fidelity=fidelity, feature_map=adhoc_feature_map_ZZ_2_full)\n",
    "adhoc_kernel_ZZ_3_full = FidelityQuantumKernel(fidelity=fidelity, feature_map=adhoc_feature_map_ZZ_3_full)"
   ]
  },
  {
   "cell_type": "code",
   "execution_count": null,
   "id": "a8040a78",
   "metadata": {},
   "outputs": [
    {
     "name": "stdout",
     "output_type": "stream",
     "text": [
      "kernel.evaluate classification test score of _Z_1: 0.8\n"
     ]
    }
   ],
   "source": [
    "adhoc_svc_Z_1 = SVC(kernel=adhoc_kernel_Z_1.evaluate)\n",
    "adhoc_svc_Z_1.fit(train_features, train_labels)\n",
    "adhoc_score_Z_1 = adhoc_svc_Z_1.score(test_features, test_labels)\n",
    "\n",
    "print(f\"kernel.evaluate classification test score of _Z_1: {adhoc_score_Z_1}\")\n",
    "\n",
    "adhoc_matrix_train = adhoc_kernel_Z_1.evaluate(x_vec=train_features)\n",
    "adhoc_matrix_test = adhoc_kernel_Z_1.evaluate(x_vec=test_features, y_vec=train_features)\n",
    "\n",
    "fig, axs = plt.subplots(1, 2, figsize=(10, 5))\n",
    "\n",
    "axs[0].imshow(\n",
    "    np.asmatrix(adhoc_matrix_train), interpolation=\"nearest\", origin=\"upper\", cmap=\"Blues\"\n",
    ")\n",
    "axs[0].set_title(\"Ad hoc training kernel matrix\")\n",
    "\n",
    "axs[1].imshow(np.asmatrix(adhoc_matrix_test), interpolation=\"nearest\", origin=\"upper\", cmap=\"Reds\")\n",
    "axs[1].set_title(\"Ad hoc testing kernel matrix\")\n",
    "\n",
    "plt.show()"
   ]
  },
  {
   "cell_type": "code",
   "execution_count": null,
   "id": "19ee0a7b",
   "metadata": {},
   "outputs": [],
   "source": [
    "adhoc_svc_Z_2 = SVC(kernel=adhoc_kernel_Z_2.evaluate)\n",
    "adhoc_svc_Z_2.fit(train_features, train_labels)\n",
    "adhoc_score_Z_2 = adhoc_svc_Z_2.score(test_features, test_labels)\n",
    "\n",
    "print(f\"kernel.evaluate classification test score of _Z_2: {adhoc_score_Z_2}\")\n",
    "\n",
    "adhoc_matrix_train = adhoc_kernel_Z_2.evaluate(x_vec=train_features)\n",
    "adhoc_matrix_test = adhoc_kernel_Z_2.evaluate(x_vec=test_features, y_vec=train_features)\n",
    "\n",
    "fig, axs = plt.subplots(1, 2, figsize=(10, 5))\n",
    "\n",
    "axs[0].imshow(\n",
    "    np.asmatrix(adhoc_matrix_train), interpolation=\"nearest\", origin=\"upper\", cmap=\"Blues\"\n",
    ")\n",
    "axs[0].set_title(\"Ad hoc training kernel matrix\")\n",
    "\n",
    "axs[1].imshow(np.asmatrix(adhoc_matrix_test), interpolation=\"nearest\", origin=\"upper\", cmap=\"Reds\")\n",
    "axs[1].set_title(\"Ad hoc testing kernel matrix\")\n",
    "\n",
    "plt.show()"
   ]
  },
  {
   "cell_type": "code",
   "execution_count": null,
   "id": "98af9e40",
   "metadata": {},
   "outputs": [],
   "source": [
    "adhoc_svc_Z_3 = SVC(kernel=adhoc_kernel_Z_3.evaluate)\n",
    "adhoc_svc_Z_3.fit(train_features, train_labels)\n",
    "adhoc_score_Z_3 = adhoc_svc_Z_3.score(test_features, test_labels)\n",
    "\n",
    "print(f\"kernel.evaluate classification test score of _Z_3: {adhoc_score_Z_3}\")\n",
    "\n",
    "adhoc_matrix_train = adhoc_kernel_Z_3.evaluate(x_vec=train_features)\n",
    "adhoc_matrix_test = adhoc_kernel_Z_3.evaluate(x_vec=test_features, y_vec=train_features)\n",
    "\n",
    "fig, axs = plt.subplots(1, 2, figsize=(10, 5))\n",
    "\n",
    "axs[0].imshow(\n",
    "    np.asmatrix(adhoc_matrix_train), interpolation=\"nearest\", origin=\"upper\", cmap=\"Blues\"\n",
    ")\n",
    "axs[0].set_title(\"Ad hoc training kernel matrix\")\n",
    "\n",
    "axs[1].imshow(np.asmatrix(adhoc_matrix_test), interpolation=\"nearest\", origin=\"upper\", cmap=\"Reds\")\n",
    "axs[1].set_title(\"Ad hoc testing kernel matrix\")\n",
    "\n",
    "plt.show()"
   ]
  },
  {
   "cell_type": "code",
   "execution_count": null,
   "id": "e22d0fb1",
   "metadata": {},
   "outputs": [],
   "source": [
    "adhoc_svc_ZZ_1_linear = SVC(kernel=adhoc_kernel_ZZ_1_linear.evaluate)\n",
    "adhoc_svc_ZZ_1_linear.fit(train_features, train_labels)\n",
    "adhoc_score_ZZ_1_linear = adhoc_svc_ZZ_1_linear.score(test_features, test_labels)\n",
    "\n",
    "print(f\"kernel.evaluate classification test score of _ZZ_1_linear: {adhoc_score_ZZ_1_linear}\")\n",
    "\n",
    "adhoc_matrix_train = adhoc_kernel_ZZ_1_linear.evaluate(x_vec=train_features)\n",
    "adhoc_matrix_test = adhoc_kernel_ZZ_1_linear.evaluate(x_vec=test_features, y_vec=train_features)\n",
    "\n",
    "fig, axs = plt.subplots(1, 2, figsize=(10, 5))\n",
    "\n",
    "axs[0].imshow(\n",
    "    np.asmatrix(adhoc_matrix_train), interpolation=\"nearest\", origin=\"upper\", cmap=\"Blues\"\n",
    ")\n",
    "axs[0].set_title(\"Ad hoc training kernel matrix\")\n",
    "\n",
    "axs[1].imshow(np.asmatrix(adhoc_matrix_test), interpolation=\"nearest\", origin=\"upper\", cmap=\"Reds\")\n",
    "axs[1].set_title(\"Ad hoc testing kernel matrix\")\n",
    "\n",
    "plt.show()"
   ]
  },
  {
   "cell_type": "code",
   "execution_count": null,
   "id": "3548efbf",
   "metadata": {},
   "outputs": [],
   "source": [
    "adhoc_svc_ZZ_2_linear = SVC(kernel=adhoc_kernel_ZZ_2_linear.evaluate)\n",
    "adhoc_svc_ZZ_2_linear.fit(train_features, train_labels)\n",
    "adhoc_score_ZZ_2_linear = adhoc_svc_ZZ_2_linear.score(test_features, test_labels)\n",
    "\n",
    "print(f\"kernel.evaluate classification test score of _ZZ_2_linear: {adhoc_score_ZZ_2_linear}\")\n",
    "\n",
    "adhoc_matrix_train = adhoc_kernel_ZZ_2_linear.evaluate(x_vec=train_features)\n",
    "adhoc_matrix_test = adhoc_kernel_ZZ_2_linear.evaluate(x_vec=test_features, y_vec=train_features)\n",
    "\n",
    "fig, axs = plt.subplots(1, 2, figsize=(10, 5))\n",
    "\n",
    "axs[0].imshow(\n",
    "    np.asmatrix(adhoc_matrix_train), interpolation=\"nearest\", origin=\"upper\", cmap=\"Blues\"\n",
    ")\n",
    "axs[0].set_title(\"Ad hoc training kernel matrix\")\n",
    "\n",
    "axs[1].imshow(np.asmatrix(adhoc_matrix_test), interpolation=\"nearest\", origin=\"upper\", cmap=\"Reds\")\n",
    "axs[1].set_title(\"Ad hoc testing kernel matrix\")\n",
    "\n",
    "plt.show()"
   ]
  },
  {
   "cell_type": "code",
   "execution_count": null,
   "id": "4f508e19",
   "metadata": {},
   "outputs": [],
   "source": [
    "adhoc_svc_ZZ_3_linear = SVC(kernel=adhoc_kernel_ZZ_3_linear.evaluate)\n",
    "adhoc_svc_ZZ_3_linear.fit(train_features, train_labels)\n",
    "adhoc_score_ZZ_3_linear = adhoc_svc_ZZ_3_linear.score(test_features, test_labels)\n",
    "\n",
    "print(f\"kernel.evaluate classification test score of _ZZ_3_linear: {adhoc_score_ZZ_3_linear}\")\n",
    "\n",
    "adhoc_matrix_train = adhoc_kernel_ZZ_3_linear.evaluate(x_vec=train_features)\n",
    "adhoc_matrix_test = adhoc_kernel_ZZ_3_linear.evaluate(x_vec=test_features, y_vec=train_features)\n",
    "\n",
    "fig, axs = plt.subplots(1, 2, figsize=(10, 5))\n",
    "\n",
    "axs[0].imshow(\n",
    "    np.asmatrix(adhoc_matrix_train), interpolation=\"nearest\", origin=\"upper\", cmap=\"Blues\"\n",
    ")\n",
    "axs[0].set_title(\"Ad hoc training kernel matrix\")\n",
    "\n",
    "axs[1].imshow(np.asmatrix(adhoc_matrix_test), interpolation=\"nearest\", origin=\"upper\", cmap=\"Reds\")\n",
    "axs[1].set_title(\"Ad hoc testing kernel matrix\")\n",
    "\n",
    "plt.show()"
   ]
  },
  {
   "cell_type": "code",
   "execution_count": null,
   "id": "3d78ddd9",
   "metadata": {},
   "outputs": [],
   "source": [
    "adhoc_svc_ZZ_1_full = SVC(kernel=adhoc_kernel_ZZ_1_full.evaluate)\n",
    "adhoc_svc_ZZ_1_full.fit(train_features, train_labels)\n",
    "adhoc_score_ZZ_1_full = adhoc_svc_ZZ_1_full.score(test_features, test_labels)\n",
    "\n",
    "print(f\"kernel.evaluate classification test score of _ZZ_1_full: {adhoc_score_ZZ_1_full}\")\n",
    "\n",
    "adhoc_matrix_train = adhoc_kernel_ZZ_1_full.evaluate(x_vec=train_features)\n",
    "adhoc_matrix_test = adhoc_kernel_ZZ_1_full.evaluate(x_vec=test_features, y_vec=train_features)\n",
    "\n",
    "fig, axs = plt.subplots(1, 2, figsize=(10, 5))\n",
    "\n",
    "axs[0].imshow(\n",
    "    np.asmatrix(adhoc_matrix_train), interpolation=\"nearest\", origin=\"upper\", cmap=\"Blues\"\n",
    ")\n",
    "axs[0].set_title(\"Ad hoc training kernel matrix\")\n",
    "\n",
    "axs[1].imshow(np.asmatrix(adhoc_matrix_test), interpolation=\"nearest\", origin=\"upper\", cmap=\"Reds\")\n",
    "axs[1].set_title(\"Ad hoc testing kernel matrix\")\n",
    "\n",
    "plt.show()"
   ]
  },
  {
   "cell_type": "code",
   "execution_count": null,
   "id": "7b706871",
   "metadata": {},
   "outputs": [],
   "source": [
    "adhoc_svc_ZZ_2_full = SVC(kernel=adhoc_kernel_ZZ_2_full.evaluate)\n",
    "adhoc_svc_ZZ_2_full.fit(train_features, train_labels)\n",
    "adhoc_score_ZZ_2_full = adhoc_svc_ZZ_2_full.score(test_features, test_labels)\n",
    "\n",
    "print(f\"kernel.evaluate classification test score of _ZZ_2_full: {adhoc_score_ZZ_1_full}\")\n",
    "\n",
    "adhoc_matrix_train = adhoc_kernel_ZZ_2_full.evaluate(x_vec=train_features)\n",
    "adhoc_matrix_test = adhoc_kernel_ZZ_2_full.evaluate(x_vec=test_features, y_vec=train_features)\n",
    "\n",
    "fig, axs = plt.subplots(1, 2, figsize=(10, 5))\n",
    "\n",
    "axs[0].imshow(\n",
    "    np.asmatrix(adhoc_matrix_train), interpolation=\"nearest\", origin=\"upper\", cmap=\"Blues\"\n",
    ")\n",
    "axs[0].set_title(\"Ad hoc training kernel matrix\")\n",
    "\n",
    "axs[1].imshow(np.asmatrix(adhoc_matrix_test), interpolation=\"nearest\", origin=\"upper\", cmap=\"Reds\")\n",
    "axs[1].set_title(\"Ad hoc testing kernel matrix\")\n",
    "\n",
    "plt.show()"
   ]
  },
  {
   "cell_type": "code",
   "execution_count": null,
   "id": "ac0af82d",
   "metadata": {},
   "outputs": [],
   "source": [
    "adhoc_svc_ZZ_3_full = SVC(kernel=adhoc_kernel_ZZ_3_full.evaluate)\n",
    "adhoc_svc_ZZ_3_full.fit(train_features, train_labels)\n",
    "adhoc_score_ZZ_3_full = adhoc_svc_ZZ_3_full.score(test_features, test_labels)\n",
    "\n",
    "print(f\"kernel.evaluate classification test score of _ZZ_3_full: {adhoc_score_ZZ_3_full}\")\n",
    "\n",
    "adhoc_matrix_train = adhoc_kernel_ZZ_3_full.evaluate(x_vec=train_features)\n",
    "adhoc_matrix_test = adhoc_kernel_ZZ_3_full.evaluate(x_vec=test_features, y_vec=train_features)\n",
    "\n",
    "fig, axs = plt.subplots(1, 2, figsize=(10, 5))\n",
    "\n",
    "axs[0].imshow(\n",
    "    np.asmatrix(adhoc_matrix_train), interpolation=\"nearest\", origin=\"upper\", cmap=\"Blues\"\n",
    ")\n",
    "axs[0].set_title(\"Ad hoc training kernel matrix\")\n",
    "\n",
    "axs[1].imshow(np.asmatrix(adhoc_matrix_test), interpolation=\"nearest\", origin=\"upper\", cmap=\"Reds\")\n",
    "axs[1].set_title(\"Ad hoc testing kernel matrix\")\n",
    "\n",
    "plt.show()"
   ]
  },
  {
   "cell_type": "code",
   "execution_count": null,
   "id": "f072c978",
   "metadata": {},
   "outputs": [],
   "source": [
    "from qiskit_machine_learning.algorithms import QSVC\n",
    "\n",
    "qsvc_Z_1 = QSVC(quantum_kernel=adhoc_kernel_Z_1)\n",
    "qsvc_Z_1.fit(train_features, train_labels)\n",
    "qsvc_score_Z_1 = qsvc_Z_1.score(test_features, test_labels)\n",
    "\n",
    "print(f\"QSVC classification test score of _Z_1: {qsvc_score_Z_1}\")\n",
    "\n",
    "qsvc_Z_2 = QSVC(quantum_kernel=adhoc_kernel_Z_2)\n",
    "qsvc_Z_2.fit(train_features, train_labels)\n",
    "qsvc_score_Z_2 = qsvc_Z_2.score(test_features, test_labels)\n",
    "\n",
    "print(f\"QSVC classification test score of _Z_2: {qsvc_score_Z_2}\")\n",
    "\n",
    "qsvc_Z_3 = QSVC(quantum_kernel=adhoc_kernel_Z_3)\n",
    "qsvc_Z_3.fit(train_features, train_labels)\n",
    "qsvc_score_Z_3 = qsvc_Z_3.score(test_features, test_labels)\n",
    "\n",
    "print(f\"QSVC classification test score of _Z_3: {qsvc_score_Z_3}\")\n",
    "\n",
    "qsvc_ZZ_1_linear = QSVC(quantum_kernel=adhoc_kernel_ZZ_1_linear)\n",
    "qsvc_ZZ_1_linear.fit(train_features, train_labels)\n",
    "qsvc_score_ZZ_1_linear = qsvc_ZZ_1_linear.score(test_features, test_labels)\n",
    "\n",
    "print(f\"QSVC classification test score of _ZZ_1_linear: {qsvc_score_ZZ_1_linear}\")\n",
    "\n",
    "qsvc_ZZ_2_linear = QSVC(quantum_kernel=adhoc_kernel_ZZ_2_linear)\n",
    "qsvc_ZZ_2_linear.fit(train_features, train_labels)\n",
    "qsvc_score_ZZ_2_linear = qsvc_ZZ_2_linear.score(test_features, test_labels)\n",
    "\n",
    "print(f\"QSVC classification test score of _ZZ_2_linear: {qsvc_score_ZZ_2_linear}\")\n",
    "\n",
    "qsvc_ZZ_3_linear = QSVC(quantum_kernel=adhoc_kernel_ZZ_3_linear)\n",
    "qsvc_ZZ_3_linear.fit(train_features, train_labels)\n",
    "qsvc_score_ZZ_3_linear = qsvc_ZZ_3_linear.score(test_features, test_labels)\n",
    "\n",
    "print(f\"QSVC classification test score of _ZZ_3_linear: {qsvc_score_ZZ_3_linear}\")\n",
    "\n",
    "qsvc_ZZ_1_full = QSVC(quantum_kernel=adhoc_kernel_ZZ_1_full)\n",
    "qsvc_ZZ_1_full.fit(train_features, train_labels)\n",
    "qsvc_score_ZZ_1_full = qsvc_ZZ_1_full.score(test_features, test_labels)\n",
    "\n",
    "print(f\"QSVC classification test score of _ZZ_1_full: {qsvc_score_ZZ_1_full}\")\n",
    "\n",
    "qsvc_ZZ_2_full = QSVC(quantum_kernel=adhoc_kernel_ZZ_2_full)\n",
    "qsvc_ZZ_2_full.fit(train_features, train_labels)\n",
    "qsvc_score_ZZ_2_full = qsvc_ZZ_2_full.score(test_features, test_labels)\n",
    "\n",
    "print(f\"QSVC classification test score of _ZZ_2_full: {qsvc_score_ZZ_2_full}\")\n",
    "\n",
    "qsvc_ZZ_3_full = QSVC(quantum_kernel=adhoc_kernel_ZZ_3_full)\n",
    "qsvc_ZZ_3_full.fit(train_features, train_labels)\n",
    "qsvc_score_ZZ_3_full = qsvc_ZZ_3_full.score(test_features, test_labels)\n",
    "\n",
    "print(f\"QSVC classification test score of _ZZ_3_full: {qsvc_score_ZZ_3_full}\")"
   ]
  },
  {
   "cell_type": "code",
   "execution_count": null,
   "id": "64d0867c",
   "metadata": {},
   "outputs": [],
   "source": [
    "print(f\"Classification Model                    | Accuracy Score\")\n",
    "print(f\"---------------------------------------------------------\")\n",
    "print(f\"SVC using RBF kernel                    | {SVM(optimal_gamma, optimal_C):10.2f}\")"
   ]
  },
  {
   "cell_type": "code",
   "execution_count": null,
   "id": "68af2b30",
   "metadata": {},
   "outputs": [],
   "source": [
    "print(f\"Classification Model                    | Accuracy Score\")\n",
    "print(f\"---------------------------------------------------------\")\n",
    "print(f\"SVC using kernel_Z_1                    | {adhoc_score_Z_1:10.2f}\")\n",
    "print(f\"QSVC using kernel_Z_1                   | {qsvc_score_Z_1:10.2f}\")"
   ]
  },
  {
   "cell_type": "code",
   "execution_count": null,
   "id": "978cf5e0",
   "metadata": {},
   "outputs": [],
   "source": [
    "print(f\"Classification Model                    | Accuracy Score\")\n",
    "print(f\"---------------------------------------------------------\")\n",
    "print(f\"SVC using kernel_Z_2                    | {adhoc_score_Z_2:10.2f}\")\n",
    "print(f\"QSVC using kernel_Z_2                   | {qsvc_score_Z_2:10.2f}\")"
   ]
  },
  {
   "cell_type": "code",
   "execution_count": null,
   "id": "9d74ad0b",
   "metadata": {},
   "outputs": [],
   "source": [
    "print(f\"Classification Model                    | Accuracy Score\")\n",
    "print(f\"---------------------------------------------------------\")\n",
    "print(f\"SVC using kernel_Z_3                    | {adhoc_score_Z_3:10.2f}\")\n",
    "print(f\"QSVC using kernel_Z_3                   | {qsvc_score_Z_3:10.2f}\")"
   ]
  },
  {
   "cell_type": "code",
   "execution_count": null,
   "id": "fd0d220c",
   "metadata": {},
   "outputs": [],
   "source": [
    "print(f\"Classification Model                    | Accuracy Score\")\n",
    "print(f\"---------------------------------------------------------\")\n",
    "print(f\"SVC using kernel_ZZ_1_linear            | {adhoc_score_ZZ_1_linear:10.2f}\")\n",
    "print(f\"QSVC using kernel_ZZ_1_linear           | {qsvc_score_ZZ_1_linear:10.2f}\")"
   ]
  },
  {
   "cell_type": "code",
   "execution_count": null,
   "id": "1834a0e4",
   "metadata": {},
   "outputs": [],
   "source": [
    "print(f\"Classification Model                    | Accuracy Score\")\n",
    "print(f\"---------------------------------------------------------\")\n",
    "print(f\"SVC using kernel_ZZ_2_linear            | {adhoc_score_ZZ_2_linear:10.2f}\")\n",
    "print(f\"QSVC using kernel_ZZ_2_linear           | {qsvc_score_ZZ_2_linear:10.2f}\")"
   ]
  },
  {
   "cell_type": "code",
   "execution_count": null,
   "id": "4a760cd0",
   "metadata": {},
   "outputs": [],
   "source": [
    "print(f\"Classification Model                    | Accuracy Score\")\n",
    "print(f\"---------------------------------------------------------\")\n",
    "print(f\"SVC using kernel_ZZ_3_linear            | {adhoc_score_ZZ_3_linear:10.2f}\")\n",
    "print(f\"QSVC using kernel_ZZ_3_linear           | {qsvc_score_ZZ_3_linear:10.2f}\")"
   ]
  },
  {
   "cell_type": "code",
   "execution_count": null,
   "id": "04023c52",
   "metadata": {},
   "outputs": [],
   "source": [
    "print(f\"Classification Model                    | Accuracy Score\")\n",
    "print(f\"---------------------------------------------------------\")\n",
    "print(f\"SVC using kernel_ZZ_1_full              | {adhoc_score_ZZ_1_full:10.2f}\")\n",
    "print(f\"QSVC using kernel_ZZ_1_full             | {qsvc_score_ZZ_1_full:10.2f}\")"
   ]
  },
  {
   "cell_type": "code",
   "execution_count": null,
   "id": "1f3d551e",
   "metadata": {},
   "outputs": [],
   "source": [
    "print(f\"Classification Model                    | Accuracy Score\")\n",
    "print(f\"---------------------------------------------------------\")\n",
    "print(f\"SVC using kernel_ZZ_2_full              | {adhoc_score_ZZ_2_full:10.2f}\")\n",
    "print(f\"QSVC using kernel_ZZ_2_full             | {qsvc_score_ZZ_2_full:10.2f}\")"
   ]
  },
  {
   "cell_type": "code",
   "execution_count": null,
   "id": "2ca44d73",
   "metadata": {},
   "outputs": [],
   "source": [
    "print(f\"Classification Model                    | Accuracy Score\")\n",
    "print(f\"---------------------------------------------------------\")\n",
    "print(f\"SVC using kernel_ZZ_3_full              | {adhoc_score_ZZ_3_full:10.2f}\")\n",
    "print(f\"QSVC using kernel_ZZ_3_full             | {qsvc_score_ZZ_3_full:10.2f}\")"
   ]
  }
 ],
 "metadata": {
  "kernelspec": {
   "display_name": "venv",
   "language": "python",
   "name": "venv"
  },
  "language_info": {
   "codemirror_mode": {
    "name": "ipython",
    "version": 3
   },
   "file_extension": ".py",
   "mimetype": "text/x-python",
   "name": "python",
   "nbconvert_exporter": "python",
   "pygments_lexer": "ipython3",
   "version": "3.11.2"
  }
 },
 "nbformat": 4,
 "nbformat_minor": 5
}
